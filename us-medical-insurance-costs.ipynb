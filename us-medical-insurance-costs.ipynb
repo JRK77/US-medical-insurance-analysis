{
 "cells": [
  {
   "cell_type": "markdown",
   "metadata": {},
   "source": [
    "# U.S. Medical Insurance Costs"
   ]
  },
  {
   "cell_type": "markdown",
   "metadata": {},
   "source": [
    "In this report, we examine real US medical insurance cost data to study which variables (age, sex, bmi, number of children, and smoking status) most effect medical insurance pricing.\n",
    "\n",
    "We begin by importing the data from the insurance.csv file and storing it as a Python dictionary. Then we save each variable as Python lists."
   ]
  },
  {
   "cell_type": "code",
   "execution_count": 19,
   "metadata": {},
   "outputs": [],
   "source": [
    "import csv\n",
    "\n",
    "age_list = []\n",
    "sex_list = []\n",
    "bmi_list = []\n",
    "children_list = []\n",
    "smoking_list = []\n",
    "\n",
    "with open(\"insurance.csv\", newline=\"\") as insurance_file:\n",
    "    insurance_data = csv.DictReader(insurance_file)\n",
    "    for row in insurance_data:\n",
    "        age_list.append(row[\"age\"])\n",
    "        sex_list.append(row[\"sex\"])\n",
    "        bmi_list.append(row[\"children\"])\n",
    "        children_list.append(row[\"age\"])\n",
    "        smoking_list.append(row[\"smoker\"])"
   ]
  }
 ],
 "metadata": {
  "interpreter": {
   "hash": "916dbcbb3f70747c44a77c7bcd40155683ae19c65e1c03b4aa3499c5328201f1"
  },
  "kernelspec": {
   "display_name": "Python 3.9.2 64-bit",
   "language": "python",
   "name": "python3"
  },
  "language_info": {
   "codemirror_mode": {
    "name": "ipython",
    "version": 3
   },
   "file_extension": ".py",
   "mimetype": "text/x-python",
   "name": "python",
   "nbconvert_exporter": "python",
   "pygments_lexer": "ipython3",
   "version": "3.9.2"
  }
 },
 "nbformat": 4,
 "nbformat_minor": 4
}
